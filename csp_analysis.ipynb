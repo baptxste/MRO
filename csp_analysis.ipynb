{
 "cells": [
  {
   "attachments": {},
   "cell_type": "markdown",
   "metadata": {},
   "source": [
    "notebook pour étudier les résultats du csp"
   ]
  },
  {
   "cell_type": "code",
   "execution_count": 20,
   "metadata": {},
   "outputs": [],
   "source": [
    "import os\n",
    "import json\n",
    "import pandas as pd\n",
    "import numpy as np"
   ]
  },
  {
   "cell_type": "code",
   "execution_count": 2,
   "metadata": {},
   "outputs": [],
   "source": [
    "data = []"
   ]
  },
  {
   "cell_type": "code",
   "execution_count": 4,
   "metadata": {},
   "outputs": [],
   "source": [
    "for file in os.listdir('results_cop'):\n",
    "    with open('results_cop/'+file,'r') as file : \n",
    "        raw = json.load(file)\n",
    "        tmp = {}\n",
    "        tmp[\"objectif\"] = raw[\"objectif\"]\n",
    "        nb_station = raw[\"solvers\"][\"ACE\"][\"nombre_stations\"]\n",
    "        tmp[\"nb station\"] = nb_station\n",
    "        tmp[\"time_ace\"] = raw[\"solvers\"][\"ACE\"][\"temps\"]\n",
    "        tmp[\"time_choco\"] = raw[\"solvers\"][\"Choco\"][\"temps\"]\n",
    "    data.append(tmp)\n"
   ]
  },
  {
   "cell_type": "code",
   "execution_count": 8,
   "metadata": {},
   "outputs": [
    {
     "name": "stdout",
     "output_type": "stream",
     "text": [
      "    objectif  nb station   time_ace  time_choco\n",
      "0          1          50   0.725848    0.117340\n",
      "1          1         150   1.149676    0.118492\n",
      "2          1         250   2.005245    0.118255\n",
      "3          1         500   4.645630    0.134006\n",
      "4          2          50  60.341584    0.109806\n",
      "5          2         150  60.349703    0.119203\n",
      "6          2         250  60.360382    0.122928\n",
      "7          2         500  60.389112    0.135731\n",
      "8          3          50   0.587273    0.114264\n",
      "9          3         150   0.742485    0.123299\n",
      "10         3         250   0.994855    0.126541\n",
      "11         3         500   1.402266    0.136405\n"
     ]
    }
   ],
   "source": [
    "df = pd.DataFrame(data)\n",
    "result = df.groupby(['objectif', 'nb station'])[['time_ace', 'time_choco']].mean().reset_index()\n",
    "print(result)"
   ]
  },
  {
   "attachments": {},
   "cell_type": "markdown",
   "metadata": {},
   "source": [
    "# ANALYSE PERFORMANCE OBJECTIF 1"
   ]
  },
  {
   "cell_type": "code",
   "execution_count": 31,
   "metadata": {},
   "outputs": [
    {
     "name": "stdout",
     "output_type": "stream",
     "text": [
      " nb station : 500 , em_choco : 4 , re_choco : 4, em_ace : 4 , re_ace : 4\n",
      " nb station : 50 , em_choco : 4 , re_choco : 4, em_ace : 4 , re_ace : 4\n",
      " nb station : 150 , em_choco : 4 , re_choco : 4, em_ace : 4 , re_ace : 4\n",
      " nb station : 150 , em_choco : 4 , re_choco : 4, em_ace : 4 , re_ace : 4\n",
      " nb station : 150 , em_choco : 4 , re_choco : 4, em_ace : 4 , re_ace : 4\n",
      " nb station : 500 , em_choco : 4 , re_choco : 4, em_ace : 4 , re_ace : 4\n",
      " nb station : 150 , em_choco : 4 , re_choco : 4, em_ace : 4 , re_ace : 4\n",
      " nb station : 50 , em_choco : 4 , re_choco : 4, em_ace : 4 , re_ace : 4\n",
      " nb station : 150 , em_choco : 4 , re_choco : 4, em_ace : 4 , re_ace : 4\n",
      " nb station : 50 , em_choco : 4 , re_choco : 4, em_ace : 4 , re_ace : 4\n",
      " nb station : 500 , em_choco : 4 , re_choco : 4, em_ace : 4 , re_ace : 4\n",
      " nb station : 500 , em_choco : 4 , re_choco : 4, em_ace : 4 , re_ace : 4\n",
      " nb station : 50 , em_choco : 4 , re_choco : 4, em_ace : 4 , re_ace : 4\n",
      " nb station : 250 , em_choco : 4 , re_choco : 4, em_ace : 4 , re_ace : 4\n",
      " nb station : 50 , em_choco : 4 , re_choco : 4, em_ace : 4 , re_ace : 4\n",
      " nb station : 250 , em_choco : 4 , re_choco : 4, em_ace : 4 , re_ace : 4\n",
      " nb station : 250 , em_choco : 4 , re_choco : 4, em_ace : 4 , re_ace : 4\n",
      " nb station : 250 , em_choco : 4 , re_choco : 4, em_ace : 4 , re_ace : 4\n",
      " nb station : 250 , em_choco : 4 , re_choco : 4, em_ace : 4 , re_ace : 4\n"
     ]
    }
   ],
   "source": [
    "for file in os.listdir('results_cop'):\n",
    "    with open('results_cop/'+file,'r') as file : \n",
    "    # with open('results_cop/result_celar_50_7_10_5_0.800000_0_1.json') as file :\n",
    "        raw = json.load(file)\n",
    "        if raw[\"objectif\"] == 1:\n",
    "            nb_station = raw[\"solvers\"][\"Choco\"][\"nombre_stations\"]\n",
    "            choco = raw[\"solvers\"][\"Choco\"][\"stations\"]\n",
    "            ace= raw[\"solvers\"][\"ACE\"][\"stations\"]\n",
    "            em_choco = []\n",
    "            re_choco = []\n",
    "            em_ace = []\n",
    "            re_ace = []\n",
    "            for e in choco : \n",
    "                if e[\"emetteur\"] not in em_choco:\n",
    "                    em_choco.append(e[\"emetteur\"])\n",
    "                if e[\"recepteur\"] not in re_choco:\n",
    "                    re_choco.append(e[\"recepteur\"])\n",
    "\n",
    "            for e in ace:\n",
    "                if e[\"emetteur\"] not in em_ace:\n",
    "                    em_ace.append(e[\"emetteur\"])\n",
    "                if e[\"recepteur\"] not in re_ace:\n",
    "                    re_ace.append(e[\"recepteur\"])\n",
    "    # print(em_choco)\n",
    "    # print(re_choco)\n",
    "    # print(em_ace)\n",
    "    # print(re_ace)\n",
    "            if set(em_choco)!= set(em_ace):\n",
    "                print( em_ace)\n",
    "                print(em_choco)\n",
    "            print(f\" nb station : {nb_station} , em_choco : {len(em_choco)} , re_choco : {len(re_choco)}, em_ace : {len(em_ace)} , re_ace : {len(re_ace)}\")\n"
   ]
  },
  {
   "attachments": {},
   "cell_type": "markdown",
   "metadata": {},
   "source": [
    "# ANALYSE PERFORMANCE OBJECTIF 2"
   ]
  },
  {
   "cell_type": "code",
   "execution_count": 33,
   "metadata": {},
   "outputs": [
    {
     "name": "stdout",
     "output_type": "stream",
     "text": [
      " nb station : 250 , em_choco : 2660 , re_choco : 2660, em_ace : 2660 , re_ace : 2660\n",
      " nb station : 250 , em_choco : 3416 , re_choco : 2772, em_ace : 3416 , re_ace : 2772\n",
      " nb station : 250 , em_choco : 1680 , re_choco : 1680, em_ace : 1680 , re_ace : 1680\n",
      " nb station : 50 , em_choco : 1260 , re_choco : 1260, em_ace : 1260 , re_ace : 1260\n",
      " nb station : 250 , em_choco : 1694 , re_choco : 1694, em_ace : 1694 , re_ace : 1694\n",
      " nb station : 250 , em_choco : 1778 , re_choco : 1960, em_ace : 1778 , re_ace : 1960\n",
      " nb station : 500 , em_choco : 2758 , re_choco : 3024, em_ace : 2758 , re_ace : 3024\n",
      " nb station : 50 , em_choco : 868 , re_choco : 714, em_ace : 868 , re_ace : 714\n",
      " nb station : 50 , em_choco : 1400 , re_choco : 1400, em_ace : 1400 , re_ace : 1400\n",
      " nb station : 500 , em_choco : 3178 , re_choco : 2702, em_ace : 3178 , re_ace : 2702\n",
      " nb station : 150 , em_choco : 2660 , re_choco : 2660, em_ace : 2660 , re_ace : 2660\n",
      " nb station : 150 , em_choco : 2618 , re_choco : 1904, em_ace : 2618 , re_ace : 1904\n",
      " nb station : 50 , em_choco : 1414 , re_choco : 1414, em_ace : 1414 , re_ace : 1414\n",
      " nb station : 500 , em_choco : 2058 , re_choco : 2058, em_ace : 2058 , re_ace : 2058\n",
      " nb station : 150 , em_choco : 1792 , re_choco : 2268, em_ace : 1792 , re_ace : 2268\n",
      " nb station : 150 , em_choco : 2520 , re_choco : 2520, em_ace : 2520 , re_ace : 2520\n",
      " nb station : 500 , em_choco : 1890 , re_choco : 2254, em_ace : 1890 , re_ace : 2254\n",
      " nb station : 50 , em_choco : 686 , re_choco : 840, em_ace : 686 , re_ace : 840\n",
      " nb station : 150 , em_choco : 2618 , re_choco : 2940, em_ace : 2618 , re_ace : 2940\n"
     ]
    }
   ],
   "source": [
    "for file in os.listdir('results_cop'):\n",
    "    with open('results_cop/'+file,'r') as file : \n",
    "    # with open('results_cop/result_celar_50_7_10_5_0.800000_0_1.json') as file :\n",
    "        raw = json.load(file)\n",
    "        if int(raw[\"objectif\"]) == 2:\n",
    "            # print(raw[\"objectif\"])\n",
    "            nb_station = raw[\"solvers\"][\"Choco\"][\"nombre_stations\"]\n",
    "            choco = raw[\"solvers\"][\"Choco\"][\"stations\"]\n",
    "            ace= raw[\"solvers\"][\"ACE\"][\"stations\"]\n",
    "            em_choco = []\n",
    "            re_choco = []\n",
    "            em_ace = []\n",
    "            re_ace = []\n",
    "            for e in choco : \n",
    "                if e[\"emetteur\"] not in em_choco:\n",
    "                    em_choco.append(int(e[\"emetteur\"]))\n",
    "                if e[\"recepteur\"] not in re_choco:\n",
    "                    re_choco.append(int(e[\"recepteur\"]))\n",
    "\n",
    "            for e in ace:\n",
    "                if e[\"emetteur\"] not in em_ace:\n",
    "                    em_ace.append(int(e[\"emetteur\"]))\n",
    "                if e[\"recepteur\"] not in re_ace:\n",
    "                    re_ace.append(int(e[\"recepteur\"]))\n",
    "\n",
    "            print(f\" nb station : {nb_station} , em_choco : {sum(np.array(em_choco))} , re_choco : {sum(np.array(re_choco))}, em_ace : {sum(np.array(em_ace))} , re_ace : {sum(np.array(re_ace))}\")\n",
    "\n"
   ]
  },
  {
   "attachments": {},
   "cell_type": "markdown",
   "metadata": {},
   "source": [
    "# ANALYSE PERFORMANCE OBJECTIF 3"
   ]
  },
  {
   "cell_type": "code",
   "execution_count": 35,
   "metadata": {},
   "outputs": [
    {
     "name": "stdout",
     "output_type": "stream",
     "text": [
      "nb station : 250, em_choco range : 238, re_choco sum : 238, em_ace sum : 238, re_ace sum : 238\n",
      "nb station : 250, em_choco range : 238, re_choco sum : 238, em_ace sum : 238, re_ace sum : 238\n",
      "nb station : 50, em_choco range : 280, re_choco sum : 280, em_ace sum : 280, re_ace sum : 280\n",
      "nb station : 250, em_choco range : 224, re_choco sum : 224, em_ace sum : 224, re_ace sum : 224\n",
      "nb station : 250, em_choco range : 378, re_choco sum : 378, em_ace sum : 378, re_ace sum : 378\n",
      "nb station : 250, em_choco range : 308, re_choco sum : 308, em_ace sum : 308, re_ace sum : 308\n",
      "nb station : 150, em_choco range : 308, re_choco sum : 308, em_ace sum : 308, re_ace sum : 308\n",
      "nb station : 500, em_choco range : 294, re_choco sum : 294, em_ace sum : 294, re_ace sum : 294\n",
      "nb station : 50, em_choco range : 308, re_choco sum : 308, em_ace sum : 308, re_ace sum : 308\n",
      "nb station : 50, em_choco range : 182, re_choco sum : 196, em_ace sum : 182, re_ace sum : 196\n",
      "nb station : 500, em_choco range : 308, re_choco sum : 308, em_ace sum : 308, re_ace sum : 308\n",
      "nb station : 50, em_choco range : 308, re_choco sum : 308, em_ace sum : 308, re_ace sum : 308\n",
      "nb station : 150, em_choco range : 280, re_choco sum : 280, em_ace sum : 280, re_ace sum : 280\n",
      "nb station : 150, em_choco range : 364, re_choco sum : 364, em_ace sum : 364, re_ace sum : 364\n",
      "nb station : 50, em_choco range : 182, re_choco sum : 182, em_ace sum : 182, re_ace sum : 182\n",
      "nb station : 500, em_choco range : 224, re_choco sum : 224, em_ace sum : 224, re_ace sum : 224\n",
      "nb station : 150, em_choco range : 364, re_choco sum : 364, em_ace sum : 364, re_ace sum : 364\n",
      "nb station : 150, em_choco range : 280, re_choco sum : 280, em_ace sum : 280, re_ace sum : 280\n",
      "nb station : 500, em_choco range : 224, re_choco sum : 224, em_ace sum : 224, re_ace sum : 224\n"
     ]
    }
   ],
   "source": [
    "for file in os.listdir('results_cop'):\n",
    "    with open('results_cop/'+file,'r') as file : \n",
    "    # with open('results_cop/result_celar_50_7_10_5_0.800000_0_1.json') as file :\n",
    "        raw = json.load(file)\n",
    "        if int(raw[\"objectif\"]) == 3:\n",
    "            # print(raw[\"objectif\"])\n",
    "            nb_station = raw[\"solvers\"][\"Choco\"][\"nombre_stations\"]\n",
    "            choco = raw[\"solvers\"][\"Choco\"][\"stations\"]\n",
    "            ace= raw[\"solvers\"][\"ACE\"][\"stations\"]\n",
    "            em_choco = []\n",
    "            re_choco = []\n",
    "            em_ace = []\n",
    "            re_ace = []\n",
    "            for e in choco : \n",
    "                if e[\"emetteur\"] not in em_choco:\n",
    "                    em_choco.append(int(e[\"emetteur\"]))\n",
    "                if e[\"recepteur\"] not in re_choco:\n",
    "                    re_choco.append(int(e[\"recepteur\"]))\n",
    "\n",
    "            for e in ace:\n",
    "                if e[\"emetteur\"] not in em_ace:\n",
    "                    em_ace.append(int(e[\"emetteur\"]))\n",
    "                if e[\"recepteur\"] not in re_ace:\n",
    "                    re_ace.append(int(e[\"recepteur\"]))\n",
    "\n",
    "            print(f\"nb station : {nb_station}, \"\n",
    "                f\"em_choco range : {np.ptp(np.array(em_choco))}, \"  # np.ptp donne la différence entre le max et le min\n",
    "                f\"re_choco sum : {np.ptp(np.array(re_choco))}, \"\n",
    "                f\"em_ace sum : {np.ptp(np.array(em_ace))}, \"\n",
    "                f\"re_ace sum : {np.ptp(np.array(re_ace))}\")\n",
    "\n"
   ]
  }
 ],
 "metadata": {
  "kernelspec": {
   "display_name": "Python 3",
   "language": "python",
   "name": "python3"
  },
  "language_info": {
   "codemirror_mode": {
    "name": "ipython",
    "version": 3
   },
   "file_extension": ".py",
   "mimetype": "text/x-python",
   "name": "python",
   "nbconvert_exporter": "python",
   "pygments_lexer": "ipython3",
   "version": "3.10.14"
  },
  "orig_nbformat": 4
 },
 "nbformat": 4,
 "nbformat_minor": 2
}
